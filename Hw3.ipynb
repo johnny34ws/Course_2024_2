{
 "cells": [
  {
   "cell_type": "code",
   "execution_count": 93,
   "id": "177feca0af82b907",
   "metadata": {
    "ExecuteTime": {
     "end_time": "2025-03-11T07:34:56.464200Z",
     "start_time": "2025-03-11T07:34:56.455521Z"
    },
    "collapsed": true,
    "jupyter": {
     "outputs_hidden": true
    }
   },
   "outputs": [],
   "source": [
    "import numpy as np\n",
    "from scipy.stats import ks_2samp, norm, t"
   ]
  },
  {
   "cell_type": "code",
   "execution_count": 94,
   "id": "ecd67dd4ec228692",
   "metadata": {
    "ExecuteTime": {
     "end_time": "2025-03-11T07:34:56.951674Z",
     "start_time": "2025-03-11T07:34:56.946027Z"
    }
   },
   "outputs": [],
   "source": [
    "np.random.seed(428)"
   ]
  },
  {
   "cell_type": "code",
   "execution_count": 95,
   "id": "cb76e4254d6f672c",
   "metadata": {
    "ExecuteTime": {
     "end_time": "2025-03-11T07:34:57.437445Z",
     "start_time": "2025-03-11T07:34:57.426234Z"
    }
   },
   "outputs": [
    {
     "data": {
      "text/plain": [
       "np.float64(0.5362766985932181)"
      ]
     },
     "execution_count": 95,
     "metadata": {},
     "output_type": "execute_result"
    }
   ],
   "source": [
    "X = norm.rvs(loc=0, scale=1, size=1000) \n",
    "Y = t.rvs(df=10, size=1000) \n",
    "ks_stat, p_value = ks_2samp(X, Y)\n",
    "p_value"
   ]
  },
  {
   "cell_type": "markdown",
   "id": "598d2050e1bd0bbb",
   "metadata": {},
   "source": [
    "P值大于0.05，所以接受原假设"
   ]
  },
  {
   "cell_type": "code",
   "execution_count": 99,
   "id": "initial_id",
   "metadata": {
    "ExecuteTime": {
     "end_time": "2025-03-11T07:35:37.163218Z",
     "start_time": "2025-03-11T07:35:37.148167Z"
    }
   },
   "outputs": [],
   "source": [
    "def kstest(n, sim=100, d=10):  \n",
    "    count = 0\n",
    "    for _ in range(sim):\n",
    "        X = norm.rvs(loc=0, scale=1, size=n) \n",
    "        Y = t.rvs(df=d, size=n) \n",
    "        \n",
    "        ks_stat, p_value = ks_2samp(X, Y)\n",
    "        if p_value < 0.05:\n",
    "            count += 1\n",
    "    return count / sim\n"
   ]
  },
  {
   "cell_type": "code",
   "execution_count": 100,
   "id": "3bbf72919904653f",
   "metadata": {
    "ExecuteTime": {
     "end_time": "2025-03-11T07:35:37.629687Z",
     "start_time": "2025-03-11T07:35:37.623973Z"
    }
   },
   "outputs": [],
   "source": [
    "def findmin(low=1000,high=20001,d=10):\n",
    "    while low < high:\n",
    "        mid = (low + high) // 2\n",
    "        power = kstest(mid,d=d)\n",
    "        #print(f\"n = {mid}, power = {power:.4f}\")\n",
    "            \n",
    "        if power > 0.95:\n",
    "            high = mid  # 继续在左半部分查找\n",
    "        else:\n",
    "            low = mid + 1  # 继续在右半部分查找\n",
    "    return low"
   ]
  },
  {
   "cell_type": "code",
   "execution_count": 101,
   "id": "bd037aceac4dc2ec",
   "metadata": {
    "ExecuteTime": {
     "end_time": "2025-03-11T07:35:55.223958Z",
     "start_time": "2025-03-11T07:35:38.208628Z"
    }
   },
   "outputs": [
    {
     "data": {
      "text/plain": [
       "14296"
      ]
     },
     "execution_count": 101,
     "metadata": {},
     "output_type": "execute_result"
    }
   ],
   "source": [
    "\n",
    "findmin(10000,20000)\n"
   ]
  },
  {
   "cell_type": "code",
   "execution_count": 104,
   "id": "7e69a81e19560f0d",
   "metadata": {
    "ExecuteTime": {
     "end_time": "2025-03-11T07:41:28.121650Z",
     "start_time": "2025-03-11T07:39:02.765225Z"
    }
   },
   "outputs": [
    {
     "name": "stdout",
     "output_type": "stream",
     "text": [
      "3705\n",
      "7541\n",
      "11844\n",
      "17408\n",
      "26254\n",
      "35082\n"
     ]
    }
   ],
   "source": [
    "for i in range(5,16,2):\n",
    "    print(findmin(0,40000,d=i))"
   ]
  },
  {
   "cell_type": "markdown",
   "id": "fb74805cac77bb9f",
   "metadata": {},
   "source": [
    "随着t分布的自由度增加，上一题中n的最小值也在增加。这是因为t分布的自由度越大，它和标准态分布越接近，拒绝原假设的难度更高。"
   ]
  },
  {
   "cell_type": "code",
   "execution_count": 105,
   "id": "f224b549d4fbde68",
   "metadata": {
    "ExecuteTime": {
     "end_time": "2025-03-11T07:41:28.132084Z",
     "start_time": "2025-03-11T07:41:28.125246Z"
    }
   },
   "outputs": [
    {
     "name": "stdout",
     "output_type": "stream",
     "text": [
      "Median Test P-value: 0.3037\n",
      "Fail to reject the null hypothesis.\n"
     ]
    }
   ],
   "source": [
    "from scipy.stats import median_test\n",
    "\n",
    "# Perform median test\n",
    "stat, p_value, med, table = median_test(X, Y)\n",
    "\n",
    "# Output results\n",
    "print(f\"Median Test P-value: {p_value:.4f}\")\n",
    "alpha = 0.05\n",
    "# Decision\n",
    "if p_value < alpha:\n",
    "    print(\"Reject the null hypothesis (medians are different).\")\n",
    "else:\n",
    "    print(\"Fail to reject the null hypothesis.\")"
   ]
  },
  {
   "cell_type": "code",
   "execution_count": 90,
   "id": "92d42504df82237",
   "metadata": {
    "ExecuteTime": {
     "end_time": "2025-03-11T07:30:28.503499Z",
     "start_time": "2025-03-11T07:30:28.496114Z"
    }
   },
   "outputs": [],
   "source": []
  }
 ],
 "metadata": {
  "kernelspec": {
   "display_name": "Python 3 (ipykernel)",
   "language": "python",
   "name": "python3"
  },
  "language_info": {
   "codemirror_mode": {
    "name": "ipython",
    "version": 3
   },
   "file_extension": ".py",
   "mimetype": "text/x-python",
   "name": "python",
   "nbconvert_exporter": "python",
   "pygments_lexer": "ipython3",
   "version": "3.11.9"
  }
 },
 "nbformat": 4,
 "nbformat_minor": 5
}
