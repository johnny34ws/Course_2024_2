{
 "cells": [
  {
   "metadata": {},
   "cell_type": "markdown",
   "source": "## Problem 1",
   "id": "8c1dc301c0f97a98"
  },
  {
   "cell_type": "code",
   "id": "initial_id",
   "metadata": {
    "collapsed": true,
    "ExecuteTime": {
     "end_time": "2025-03-24T09:37:22.359486Z",
     "start_time": "2025-03-24T09:37:22.353908Z"
    }
   },
   "source": [
    "import numpy as np\n",
    "from scipy.stats import chi2\n",
    "from scipy.stats import rankdata\n"
   ],
   "outputs": [],
   "execution_count": 55
  },
  {
   "metadata": {
    "ExecuteTime": {
     "end_time": "2025-03-24T09:37:22.390663Z",
     "start_time": "2025-03-24T09:37:22.385440Z"
    }
   },
   "cell_type": "code",
   "source": [
    "def mood():\n",
    "    X = np.random.normal(0, 1, 100)\n",
    "    Y = np.random.normal(0, 1.2**0.5, 100)\n",
    "    \n",
    "    combined_sample = np.concatenate([X, Y])\n",
    "    combined_indices = np.argsort(combined_sample)\n",
    "    \n",
    "    z = np.zeros_like(combined_sample, dtype=int)\n",
    "    z[combined_indices[:100]] = 1\n",
    "    \n",
    "    a = np.arange(1, len(z) + 1) \n",
    "    M = np.sum((a - 201/2) ** 2 * z)\n",
    "    return M"
   ],
   "id": "99fe78ededaa4698",
   "outputs": [],
   "execution_count": 56
  },
  {
   "metadata": {
    "ExecuteTime": {
     "end_time": "2025-03-24T09:37:22.413002Z",
     "start_time": "2025-03-24T09:37:22.404627Z"
    }
   },
   "cell_type": "code",
   "source": [
    "np.random.seed(428)\n",
    "M_observed = mood()"
   ],
   "id": "91281adafa5d8384",
   "outputs": [],
   "execution_count": 57
  },
  {
   "metadata": {
    "ExecuteTime": {
     "end_time": "2025-03-24T09:37:22.622244Z",
     "start_time": "2025-03-24T09:37:22.413002Z"
    }
   },
   "cell_type": "code",
   "source": [
    "count = 0\n",
    "for _ in range(10000):\n",
    "    M = mood()\n",
    "    if M >= M_observed:\n",
    "        count += 1\n",
    "p_value = count / 10000\n",
    "p_value"
   ],
   "id": "5d90db61597443c9",
   "outputs": [
    {
     "data": {
      "text/plain": [
       "0.4969"
      ]
     },
     "execution_count": 58,
     "metadata": {},
     "output_type": "execute_result"
    }
   ],
   "execution_count": 58
  },
  {
   "metadata": {},
   "cell_type": "markdown",
   "source": "We fail to reject the null at $\\alpha$ = 0.05 using Mood test.",
   "id": "965b325436e9bba8"
  },
  {
   "metadata": {
    "ExecuteTime": {
     "end_time": "2025-03-24T09:37:22.630876Z",
     "start_time": "2025-03-24T09:37:22.624250Z"
    }
   },
   "cell_type": "code",
   "source": [
    "def suk():\n",
    "    X = np.random.normal(0, 1, 100)\n",
    "    Y = np.random.normal(0, 1.2**0.5, 100)\n",
    "    D = ((Y < X) & (X < 0)) | ((0 < X) & (X < Y))\n",
    "    T = D.sum()\n",
    "    return T"
   ],
   "id": "412f026928c43c4a",
   "outputs": [],
   "execution_count": 59
  },
  {
   "metadata": {
    "ExecuteTime": {
     "end_time": "2025-03-24T09:37:22.762378Z",
     "start_time": "2025-03-24T09:37:22.632885Z"
    }
   },
   "cell_type": "code",
   "source": [
    "np.random.seed(428)\n",
    "t_observed = suk()\n",
    "count = 0\n",
    "for _ in range(10000):\n",
    "    t = suk()\n",
    "    if t >= t_observed:\n",
    "        count += 1\n",
    "p_value = count / 10000\n",
    "min(p_value, 1-p_value)"
   ],
   "id": "db5ac14fb183dfe7",
   "outputs": [
    {
     "data": {
      "text/plain": [
       "0.42290000000000005"
      ]
     },
     "execution_count": 60,
     "metadata": {},
     "output_type": "execute_result"
    }
   ],
   "execution_count": 60
  },
  {
   "metadata": {},
   "cell_type": "markdown",
   "source": "We fail to reject the null at $\\alpha$ = 0.05 using Sukhatme test.",
   "id": "488f162523b48d8e"
  },
  {
   "metadata": {},
   "cell_type": "markdown",
   "source": "## Problem 2",
   "id": "b2c1e693da058960"
  },
  {
   "metadata": {
    "ExecuteTime": {
     "end_time": "2025-03-24T10:13:03.502478Z",
     "start_time": "2025-03-24T10:13:03.492125Z"
    }
   },
   "cell_type": "code",
   "source": [
    "def KWtest():\n",
    "    X = np.random.normal(0, 1, 10)\n",
    "    Y = np.random.normal(0.5, 1, 15)\n",
    "    Z = np.random.normal(0.2, 1, 12)\n",
    "    \n",
    "    combined = np.concatenate([X,Y,Z])\n",
    "    ranks = rankdata(combined)\n",
    "    \n",
    "    split_idx = np.cumsum([len(sample) for sample in [X,Y]])\n",
    "    grouped_ranks = np.split(ranks, split_idx)\n",
    "    \n",
    "    # 计算每组的秩和\n",
    "    R = [np.sum(ranks) for ranks in grouped_ranks]\n",
    "    n = np.array([len(sample) for sample in [X,Y,Z]])\n",
    "    N = len(combined)\n",
    "    \n",
    "    # 计算 H 统计量\n",
    "    H = (12 / (N * (N + 1))) * np.sum(np.array(R)**2 / n) - 3 * (N + 1)\n",
    "    return H\n"
   ],
   "id": "b19f2babd876d2d1",
   "outputs": [],
   "execution_count": 67
  },
  {
   "metadata": {
    "ExecuteTime": {
     "end_time": "2025-03-24T10:14:16.001898Z",
     "start_time": "2025-03-24T10:14:15.084730Z"
    }
   },
   "cell_type": "code",
   "source": [
    "np.random.seed(428)\n",
    "h_observed = KWtest()\n",
    "count = 0\n",
    "for _ in range(10000):\n",
    "    h = KWtest()\n",
    "    if h >= h_observed:\n",
    "        count += 1\n",
    "p_value = count / 10000\n",
    "p_value"
   ],
   "id": "969f38d8c7886aba",
   "outputs": [
    {
     "data": {
      "text/plain": [
       "0.3291"
      ]
     },
     "execution_count": 69,
     "metadata": {},
     "output_type": "execute_result"
    }
   ],
   "execution_count": 69
  },
  {
   "metadata": {},
   "cell_type": "markdown",
   "source": "We fail to reject the null at $\\alpha$=0.1 using Kruskal Wallis test.",
   "id": "72e9edec65a71e35"
  },
  {
   "metadata": {
    "ExecuteTime": {
     "end_time": "2025-03-24T10:13:05.088061Z",
     "start_time": "2025-03-24T10:13:04.012324Z"
    }
   },
   "cell_type": "code",
   "source": [
    "c_value = chi2.ppf(0.9, df=2)\n",
    "reject = 0\n",
    "for _ in range(10000):\n",
    "    h = KWtest()\n",
    "    if h >= c_value:\n",
    "        reject += 1\n",
    "power = reject / 10000\n",
    "power\n",
    "    \n",
    "    "
   ],
   "id": "8aad5519f230d84f",
   "outputs": [
    {
     "data": {
      "text/plain": [
       "0.2559"
      ]
     },
     "execution_count": 68,
     "metadata": {},
     "output_type": "execute_result"
    }
   ],
   "execution_count": 68
  },
  {
   "metadata": {},
   "cell_type": "markdown",
   "source": "The power of the test is 0.2559",
   "id": "b276ac8e529cac47"
  },
  {
   "metadata": {
    "ExecuteTime": {
     "end_time": "2025-03-24T09:37:23.493404Z",
     "start_time": "2025-03-24T09:37:23.490043Z"
    }
   },
   "cell_type": "code",
   "source": "",
   "id": "584df855ac17ff8e",
   "outputs": [],
   "execution_count": 62
  }
 ],
 "metadata": {
  "kernelspec": {
   "display_name": "Python 3",
   "language": "python",
   "name": "python3"
  },
  "language_info": {
   "codemirror_mode": {
    "name": "ipython",
    "version": 2
   },
   "file_extension": ".py",
   "mimetype": "text/x-python",
   "name": "python",
   "nbconvert_exporter": "python",
   "pygments_lexer": "ipython2",
   "version": "2.7.6"
  }
 },
 "nbformat": 4,
 "nbformat_minor": 5
}
