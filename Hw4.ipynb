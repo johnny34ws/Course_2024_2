{
 "cells": [
  {
   "metadata": {},
   "cell_type": "markdown",
   "source": "# Homework4 ",
   "id": "da4936ab0d3c4ed4"
  },
  {
   "cell_type": "code",
   "id": "initial_id",
   "metadata": {
    "collapsed": true,
    "ExecuteTime": {
     "end_time": "2025-03-23T13:07:51.906412Z",
     "start_time": "2025-03-23T13:07:45.900193Z"
    }
   },
   "source": [
    "import numpy as np\n",
    "from scipy.stats import norm\n"
   ],
   "outputs": [],
   "execution_count": 2
  },
  {
   "metadata": {},
   "cell_type": "markdown",
   "source": "## Problem 2",
   "id": "71449f9ec73d704f"
  },
  {
   "metadata": {
    "ExecuteTime": {
     "end_time": "2025-03-15T07:15:48.274915Z",
     "start_time": "2025-03-15T07:15:48.268525Z"
    }
   },
   "cell_type": "code",
   "source": [
    "def wilcoxon():\n",
    "    X = np.random.normal(0, 1, 100)\n",
    "    Y = np.random.normal(0.1, 1, 100)\n",
    "    \n",
    "    combined_sample = np.concatenate([X, Y])\n",
    "    combined_indices = np.argsort(combined_sample)\n",
    "    \n",
    "    z = np.zeros_like(combined_sample, dtype=int)\n",
    "    z[combined_indices[:100]] = 1\n",
    "    \n",
    "    a = np.arange(1, len(z) + 1) \n",
    "    W0 = np.sum(a * z)\n",
    "    return W0"
   ],
   "id": "dbfe4af3eb49343e",
   "outputs": [],
   "execution_count": 8
  },
  {
   "metadata": {
    "ExecuteTime": {
     "end_time": "2025-03-15T07:15:48.871299Z",
     "start_time": "2025-03-15T07:15:48.863035Z"
    }
   },
   "cell_type": "code",
   "source": [
    "np.random.seed(428)\n",
    "W_observed = wilcoxon()"
   ],
   "id": "7f12693bcb914e5b",
   "outputs": [],
   "execution_count": 9
  },
  {
   "metadata": {
    "ExecuteTime": {
     "end_time": "2025-03-15T07:15:57.075914Z",
     "start_time": "2025-03-15T07:15:56.882868Z"
    }
   },
   "cell_type": "code",
   "source": [
    "count = 0\n",
    "for _ in range(10000):\n",
    "    W = wilcoxon()\n",
    "    if W >= W_observed:\n",
    "        count += 1\n",
    "p_value = count / 10000\n",
    "p_value"
   ],
   "id": "25df29c5d4968483",
   "outputs": [
    {
     "data": {
      "text/plain": [
       "0.5299"
      ]
     },
     "execution_count": 10,
     "metadata": {},
     "output_type": "execute_result"
    }
   ],
   "execution_count": 10
  },
  {
   "metadata": {},
   "cell_type": "markdown",
   "source": "Wilcoxon rank test fails to reject H0 at alpha=0.05",
   "id": "2f0eda84671ce6f4"
  },
  {
   "metadata": {
    "ExecuteTime": {
     "end_time": "2025-03-15T07:16:22.227629Z",
     "start_time": "2025-03-15T07:16:22.220612Z"
    }
   },
   "cell_type": "code",
   "source": [
    "def TH():\n",
    "    X = np.random.normal(0, 1, 100)\n",
    "    Y = np.random.normal(0.1, 1, 100)\n",
    "    combined_sample = np.concatenate([X, Y])\n",
    "    combined_indices = np.argsort(combined_sample)\n",
    "    \n",
    "    \n",
    "    z = np.zeros_like(combined_sample, dtype=int)\n",
    "    z[combined_indices[:100]] = 1  \n",
    "    \n",
    "    N = len(combined_sample)\n",
    "    a = np.zeros(N)\n",
    "    for i in range(1, N + 1):\n",
    "        a[i - 1] = norm.ppf(i / (N + 1))\n",
    "    \n",
    "    c_1 = np.sum(a * z)\n",
    "    return c_1"
   ],
   "id": "3ee0e72989c669c5",
   "outputs": [],
   "execution_count": 11
  },
  {
   "metadata": {
    "ExecuteTime": {
     "end_time": "2025-03-15T07:16:22.890920Z",
     "start_time": "2025-03-15T07:16:22.861120Z"
    }
   },
   "cell_type": "code",
   "source": [
    "np.random.seed(428)\n",
    "TH_observed = TH()"
   ],
   "id": "66ff647b8de4959a",
   "outputs": [],
   "execution_count": 12
  },
  {
   "metadata": {
    "ExecuteTime": {
     "end_time": "2025-03-15T07:17:55.162053Z",
     "start_time": "2025-03-15T07:16:24.995682Z"
    }
   },
   "cell_type": "code",
   "source": [
    "count = 0\n",
    "for _ in range(10000):\n",
    "    THstat = TH()\n",
    "    if THstat >= TH_observed:\n",
    "        count += 1\n",
    "p_value = count / 10000\n",
    "p_value"
   ],
   "id": "47131ddd53c236a7",
   "outputs": [
    {
     "data": {
      "text/plain": [
       "0.5344"
      ]
     },
     "execution_count": 13,
     "metadata": {},
     "output_type": "execute_result"
    }
   ],
   "execution_count": 13
  },
  {
   "metadata": {},
   "cell_type": "markdown",
   "source": "Terry-Heffding test fails to reject H0 at alpha=0.05",
   "id": "a9c8e6dbc6261a04"
  },
  {
   "metadata": {},
   "cell_type": "markdown",
   "source": "## Problem 3",
   "id": "f7066b3717324f29"
  },
  {
   "metadata": {
    "ExecuteTime": {
     "end_time": "2025-03-13T09:14:36.245818Z",
     "start_time": "2025-03-13T09:14:36.240733Z"
    }
   },
   "cell_type": "code",
   "source": [
    "np.random.seed(428)\n",
    "X = np.random.normal(0, 1, 30)\n",
    "Y = np.random.normal(0, 2, 30)\n",
    "\n",
    "U = 0\n",
    "for i in range(30):\n",
    "    for j in range(30):\n",
    "        if Y[j] < X[i]:\n",
    "            U += 1\n",
    "\n",
    "U_stat = (U - 30*30/2) / np.sqrt(30*30*61/12)\n",
    "ca = norm.ppf(0.05)\n",
    "print(U_stat, ca, U_stat <= ca)"
   ],
   "id": "8b76aef5c3863520",
   "outputs": [
    {
     "name": "stdout",
     "output_type": "stream",
     "text": [
      "-0.9905565030791276 -1.6448536269514729 False\n"
     ]
    }
   ],
   "execution_count": 31
  },
  {
   "metadata": {},
   "cell_type": "markdown",
   "source": "We fail to reject the null under alpha=0.1.",
   "id": "c461171b25fd22c8"
  },
  {
   "metadata": {
    "ExecuteTime": {
     "end_time": "2025-03-13T09:15:53.101966Z",
     "start_time": "2025-03-13T09:15:53.097132Z"
    }
   },
   "cell_type": "code",
   "source": [
    "np.random.seed(428)\n",
    "X = np.random.normal(0, 1, 30)\n",
    "Y = np.random.normal(0.5, 1, 30)\n",
    "\n",
    "U = 0\n",
    "for i in range(30):\n",
    "    for j in range(30):\n",
    "        if Y[j] < X[i]:\n",
    "            U += 1\n",
    "\n",
    "U_stat = (U - 30*30/2) / np.sqrt(30*30*61/12)\n",
    "ca = norm.ppf(0.05)\n",
    "print(U_stat, ca, U_stat <= ca)"
   ],
   "id": "76c9f40b484f2743",
   "outputs": [
    {
     "name": "stdout",
     "output_type": "stream",
     "text": [
      "-2.8681785313037427 -1.6448536269514729 True\n"
     ]
    }
   ],
   "execution_count": 45
  },
  {
   "metadata": {},
   "cell_type": "markdown",
   "source": "We reject the null under alpha=0.1",
   "id": "4b8d72348cde4e73"
  }
 ],
 "metadata": {
  "kernelspec": {
   "display_name": "Python 3",
   "language": "python",
   "name": "python3"
  },
  "language_info": {
   "codemirror_mode": {
    "name": "ipython",
    "version": 2
   },
   "file_extension": ".py",
   "mimetype": "text/x-python",
   "name": "python",
   "nbconvert_exporter": "python",
   "pygments_lexer": "ipython2",
   "version": "2.7.6"
  }
 },
 "nbformat": 4,
 "nbformat_minor": 5
}
