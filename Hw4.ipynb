{
 "cells": [
  {
   "metadata": {},
   "cell_type": "markdown",
   "source": "# Homework4 ",
   "id": "da4936ab0d3c4ed4"
  },
  {
   "cell_type": "code",
   "id": "initial_id",
   "metadata": {
    "collapsed": true,
    "ExecuteTime": {
     "end_time": "2025-03-23T13:07:51.906412Z",
     "start_time": "2025-03-23T13:07:45.900193Z"
    }
   },
   "source": [
    "import numpy as np\n",
    "from scipy.stats import norm\n"
   ],
   "outputs": [],
   "execution_count": 2
  },
  {
   "metadata": {},
   "cell_type": "markdown",
   "source": "## Problem 2",
   "id": "71449f9ec73d704f"
  },
  {
   "metadata": {
    "ExecuteTime": {
     "end_time": "2025-03-15T07:15:48.274915Z",
     "start_time": "2025-03-15T07:15:48.268525Z"
    }
   },
   "cell_type": "code",
   "source": [
    "def wilcoxon():\n",
    "    X = np.random.normal(0, 1, 100)\n",
    "    Y = np.random.normal(0.1, 1, 100)\n",
    "    \n",
    "    combined_sample = np.concatenate([X, Y])\n",
    "    combined_indices = np.argsort(combined_sample)\n",
    "    \n",
    "    z = np.zeros_like(combined_sample, dtype=int)\n",
    "    z[combined_indices[:100]] = 1\n",
    "    \n",
    "    a = np.arange(1, len(z) + 1) \n",
    "    W0 = np.sum(a * z)\n",
    "    return W0"
   ],
   "id": "dbfe4af3eb49343e",
   "outputs": [],
   "execution_count": 8
  },
  {
   "metadata": {
    "ExecuteTime": {
     "end_time": "2025-03-15T07:15:48.871299Z",
     "start_time": "2025-03-15T07:15:48.863035Z"
    }
   },
   "cell_type": "code",
   "source": [
    "np.random.seed(428)\n",
    "W_observed = wilcoxon()"
   ],
   "id": "7f12693bcb914e5b",
   "outputs": [],
   "execution_count": 9
  },
  {
   "metadata": {
    "ExecuteTime": {
     "end_time": "2025-03-15T07:15:57.075914Z",
     "start_time": "2025-03-15T07:15:56.882868Z"
    }
   },
   "cell_type": "code",
   "source": [
    "count = 0\n",
    "for _ in range(10000):\n",
    "    W = wilcoxon()\n",
    "    if W >= W_observed:\n",
    "        count += 1\n",
    "p_value = count / 10000\n",
    "p_value"
   ],
   "id": "25df29c5d4968483",
   "outputs": [
    {
     "data": {
      "text/plain": [
       "0.5299"
      ]
     },
     "execution_count": 10,
     "metadata": {},
     "output_type": "execute_result"
    }
   ],
   "execution_count": 10
  },
  {
   "metadata": {},
   "cell_type": "markdown",
   "source": "Wilcoxon rank test fails to reject H0 at alpha=0.05",
   "id": "2f0eda84671ce6f4"
  },
  {
   "metadata": {
    "ExecuteTime": {
     "end_time": "2025-03-15T07:16:22.227629Z",
     "start_time": "2025-03-15T07:16:22.220612Z"
    }
   },
   "cell_type": "code",
   "source": [
    "def TH():\n",
    "    X = np.random.normal(0, 1, 100)\n",
    "    Y = np.random.normal(0.1, 1, 100)\n",
    "    combined_sample = np.concatenate([X, Y])\n",
    "    combined_indices = np.argsort(combined_sample)\n",
    "    \n",
    "    \n",
    "    z = np.zeros_like(combined_sample, dtype=int)\n",
    "    z[combined_indices[:100]] = 1  \n",
    "    \n",
    "    N = len(combined_sample)\n",
    "    a = np.zeros(N)\n",
    "    for i in range(1, N + 1):\n",
    "        a[i - 1] = norm.ppf(i / (N + 1))\n",
    "    \n",
    "    c_1 = np.sum(a * z)\n",
    "    return c_1"
   ],
   "id": "3ee0e72989c669c5",
   "outputs": [],
   "execution_count": 11
  },
  {
   "metadata": {
    "ExecuteTime": {
     "end_time": "2025-03-15T07:16:22.890920Z",
     "start_time": "2025-03-15T07:16:22.861120Z"
    }
   },
   "cell_type": "code",
   "source": [
    "np.random.seed(428)\n",
    "TH_observed = TH()"
   ],
   "id": "66ff647b8de4959a",
   "outputs": [],
   "execution_count": 12
  },
  {
   "metadata": {
    "ExecuteTime": {
     "end_time": "2025-03-15T07:17:55.162053Z",
     "start_time": "2025-03-15T07:16:24.995682Z"
    }
   },
   "cell_type": "code",
   "source": [
    "count = 0\n",
    "for _ in range(10000):\n",
    "    THstat = TH()\n",
    "    if THstat >= TH_observed:\n",
    "        count += 1\n",
    "p_value = count / 10000\n",
    "p_value"
   ],
   "id": "47131ddd53c236a7",
   "outputs": [
    {
     "data": {
      "text/plain": [
       "0.5344"
      ]
     },
     "execution_count": 13,
     "metadata": {},
     "output_type": "execute_result"
    }
   ],
   "execution_count": 13
  },
  {
   "metadata": {},
   "cell_type": "markdown",
   "source": "Terry-Heffding test fails to reject H0 at alpha=0.05",
   "id": "a9c8e6dbc6261a04"
  },
  {
   "metadata": {},
   "cell_type": "markdown",
   "source": "## Problem 3",
   "id": "f7066b3717324f29"
  },
  {
   "metadata": {
    "ExecuteTime": {
     "end_time": "2025-03-13T09:14:36.245818Z",
     "start_time": "2025-03-13T09:14:36.240733Z"
    }
   },
   "cell_type": "code",
   "source": [
    "np.random.seed(428)\n",
    "X = np.random.normal(0, 1, 30)\n",
    "Y = np.random.normal(0, 2, 30)\n",
    "\n",
    "U = 0\n",
    "for i in range(30):\n",
    "    for j in range(30):\n",
    "        if Y[j] < X[i]:\n",
    "            U += 1\n",
    "\n",
    "U_stat = (U - 30*30/2) / np.sqrt(30*30*61/12)\n",
    "ca = norm.ppf(0.05)\n",
    "print(U_stat, ca, U_stat <= ca)"
   ],
   "id": "8b76aef5c3863520",
   "outputs": [
    {
     "name": "stdout",
     "output_type": "stream",
     "text": [
      "-0.9905565030791276 -1.6448536269514729 False\n"
     ]
    }
   ],
   "execution_count": 31
  },
  {
   "metadata": {},
   "cell_type": "markdown",
   "source": "We fail to reject the null under alpha=0.1.",
   "id": "c461171b25fd22c8"
  },
  {
   "metadata": {
    "ExecuteTime": {
     "end_time": "2025-03-13T09:15:53.101966Z",
     "start_time": "2025-03-13T09:15:53.097132Z"
    }
   },
   "cell_type": "code",
   "source": [
    "np.random.seed(428)\n",
    "X = np.random.normal(0, 1, 30)\n",
    "Y = np.random.normal(0.5, 1, 30)\n",
    "\n",
    "U = 0\n",
    "for i in range(30):\n",
    "    for j in range(30):\n",
    "        if Y[j] < X[i]:\n",
    "            U += 1\n",
    "\n",
    "U_stat = (U - 30*30/2) / np.sqrt(30*30*61/12)\n",
    "ca = norm.ppf(0.05)\n",
    "print(U_stat, ca, U_stat <= ca)"
   ],
   "id": "76c9f40b484f2743",
   "outputs": [
    {
     "name": "stdout",
     "output_type": "stream",
     "text": [
      "-2.8681785313037427 -1.6448536269514729 True\n"
     ]
    }
   ],
   "execution_count": 45
  },
  {
   "metadata": {},
   "cell_type": "markdown",
   "source": "We reject the null under alpha=0.1",
   "id": "4b8d72348cde4e73"
  },
  {
   "metadata": {
    "ExecuteTime": {
     "end_time": "2025-03-23T13:31:59.056704Z",
     "start_time": "2025-03-23T13:31:59.050482Z"
    }
   },
   "cell_type": "code",
   "source": [
    "p = np.array(([0.18,0.22,0.25,0.35]))\n",
    "a = np.array(([-0.05,0.12,0.3,0.22]))\n",
    "b = np.array(([0.18,-0.08,0.16,0.16]))\n",
    "c = np.array(([-0.12,0.12,-0.06,0.04]))\n",
    "\n",
    "ec = np.dot(p,c.T)\n",
    "ea = np.dot(a,a.T)\n",
    "eb = np.dot(b,b.T)"
   ],
   "id": "51fa735d0484f7e6",
   "outputs": [],
   "execution_count": 24
  },
  {
   "metadata": {
    "ExecuteTime": {
     "end_time": "2025-03-23T13:31:59.453335Z",
     "start_time": "2025-03-23T13:31:59.447029Z"
    }
   },
   "cell_type": "code",
   "source": [
    "vara = np.dot(p,(a.T - np.dot(p,a.T))**2 )\n",
    "varb = np.dot(p,(b.T - np.dot(p,b.T))**2 )\n",
    "varc = np.dot(p,(c.T - np.dot(p,c.T))**2 )\n"
   ],
   "id": "1653b3021b80b605",
   "outputs": [],
   "execution_count": 25
  },
  {
   "metadata": {
    "ExecuteTime": {
     "end_time": "2025-03-23T13:11:29.367865Z",
     "start_time": "2025-03-23T13:11:29.359538Z"
    }
   },
   "cell_type": "code",
   "source": "(np.dot(p,(c.T - np.dot(p,c.T))**2 )) ** 0.5",
   "id": "dc18b3698ad3d9a2",
   "outputs": [
    {
     "data": {
      "text/plain": [
       "np.float64(0.08488557003401698)"
      ]
     },
     "execution_count": 12,
     "metadata": {},
     "output_type": "execute_result"
    }
   ],
   "execution_count": 12
  },
  {
   "metadata": {
    "ExecuteTime": {
     "end_time": "2025-03-23T13:16:55.416778Z",
     "start_time": "2025-03-23T13:16:55.407786Z"
    }
   },
   "cell_type": "code",
   "source": [
    "np.dot(p,(a*b).T) - np.dot(p,a.T) * np.dot(p,b.T)\n",
    "np.dot(p,(b*c).T) - np.dot(p,b.T) * np.dot(p,c.T)\n",
    "np.dot(p,(a*c).T) - np.dot(p,c.T) * np.dot(p,a.T)"
   ],
   "id": "aceb3b9863069110",
   "outputs": [
    {
     "data": {
      "text/plain": [
       "np.float64(-0.00658104)"
      ]
     },
     "execution_count": 17,
     "metadata": {},
     "output_type": "execute_result"
    }
   ],
   "execution_count": 17
  },
  {
   "metadata": {
    "ExecuteTime": {
     "end_time": "2025-03-23T13:20:00.204954Z",
     "start_time": "2025-03-23T13:20:00.198007Z"
    }
   },
   "cell_type": "code",
   "source": [
    "def cal(a,b):\n",
    "    print(((np.dot(p,(a*b).T) - np.dot(p,a.T) * np.dot(p,b.T)) / (np.dot(p,(b.T - np.dot(p,b.T))**2 )) ** 0.5 / \n",
    " (np.dot(p,(a.T - np.dot(p,a.T))**2 )) ** 0.5))"
   ],
   "id": "de71e449e95dda55",
   "outputs": [],
   "execution_count": 20
  },
  {
   "metadata": {
    "ExecuteTime": {
     "end_time": "2025-03-23T13:20:00.473753Z",
     "start_time": "2025-03-23T13:20:00.466813Z"
    }
   },
   "cell_type": "code",
   "source": "cal(a,b)",
   "id": "891aeb1671cc3ff5",
   "outputs": [
    {
     "name": "stdout",
     "output_type": "stream",
     "text": [
      "0.14934681824956064\n"
     ]
    }
   ],
   "execution_count": 21
  },
  {
   "metadata": {
    "ExecuteTime": {
     "end_time": "2025-03-23T13:20:00.833642Z",
     "start_time": "2025-03-23T13:20:00.826197Z"
    }
   },
   "cell_type": "code",
   "source": "cal(b,c)",
   "id": "4ab3eba4cf5dcdbf",
   "outputs": [
    {
     "name": "stdout",
     "output_type": "stream",
     "text": [
      "-0.7630449541639325\n"
     ]
    }
   ],
   "execution_count": 22
  },
  {
   "metadata": {
    "ExecuteTime": {
     "end_time": "2025-03-23T13:20:01.229169Z",
     "start_time": "2025-03-23T13:20:01.222561Z"
    }
   },
   "cell_type": "code",
   "source": "cal(a,c)",
   "id": "1f1885e7bdaed3d",
   "outputs": [
    {
     "name": "stdout",
     "output_type": "stream",
     "text": [
      "0.21471996205070912\n"
     ]
    }
   ],
   "execution_count": 23
  },
  {
   "metadata": {
    "ExecuteTime": {
     "end_time": "2025-03-23T13:35:28.373389Z",
     "start_time": "2025-03-23T13:35:28.368897Z"
    }
   },
   "cell_type": "code",
   "source": [
    "for w in range(-10,22,2):\n",
    "    w = w / 10\n",
    "    print(w * ea + (1-w) * eb)\n",
    "    print((w*w * vara + (1-w*w)**2 * varb)**0.5)\n",
    "    print()"
   ],
   "id": "849726cf4d01ed92",
   "outputs": [
    {
     "name": "stdout",
     "output_type": "stream",
     "text": [
      "0.0247\n",
      "0.11984006008009174\n",
      "\n",
      "0.03776\n",
      "0.10261265543781624\n",
      "\n",
      "0.05081999999999999\n",
      "0.09694657629849546\n",
      "\n",
      "0.06387999999999999\n",
      "0.09788781954870586\n",
      "\n",
      "0.07694\n",
      "0.10044139672465732\n",
      "\n",
      "0.09\n",
      "0.1016039369315973\n",
      "\n",
      "0.10306\n",
      "0.10044139672465732\n",
      "\n",
      "0.11612\n",
      "0.09788781954870586\n",
      "\n",
      "0.12918\n",
      "0.09694657629849546\n",
      "\n",
      "0.14224\n",
      "0.10261265543781624\n",
      "\n",
      "0.1553\n",
      "0.11984006008009174\n",
      "\n",
      "0.16836\n",
      "0.150596693509519\n",
      "\n",
      "0.18141999999999997\n",
      "0.1940691190684391\n",
      "\n",
      "0.19448\n",
      "0.2487744506495794\n",
      "\n",
      "0.20754\n",
      "0.31357647350526796\n",
      "\n",
      "0.2206\n",
      "0.38775868784593337\n",
      "\n"
     ]
    }
   ],
   "execution_count": 30
  },
  {
   "metadata": {
    "ExecuteTime": {
     "end_time": "2025-03-23T13:38:16.396151Z",
     "start_time": "2025-03-23T13:38:16.379288Z"
    }
   },
   "cell_type": "code",
   "source": [
    "for w in range(-10,22,2):\n",
    "    w = w / 10\n",
    "    print(w * eb + (1-w) * ec)\n",
    "    print((w*w * varb + (1-w*w)**2 * varc)**0.5)\n",
    "    print()"
   ],
   "id": "8114f13536fea0e6",
   "outputs": [
    {
     "name": "stdout",
     "output_type": "stream",
     "text": [
      "-0.0824\n",
      "0.1016039369315973\n",
      "\n",
      "-0.06516\n",
      "0.08683772783761677\n",
      "\n",
      "-0.04792\n",
      "0.08165664073423545\n",
      "\n",
      "-0.030679999999999995\n",
      "0.0820730207559098\n",
      "\n",
      "-0.013439999999999997\n",
      "0.08398558504886419\n",
      "\n",
      "0.0038000000000000013\n",
      "0.08488557003401698\n",
      "\n",
      "0.02104\n",
      "0.08398558504886419\n",
      "\n",
      "0.038279999999999995\n",
      "0.0820730207559098\n",
      "\n",
      "0.05552\n",
      "0.08165664073423545\n",
      "\n",
      "0.07275999999999999\n",
      "0.08683772783761677\n",
      "\n",
      "0.09\n",
      "0.1016039369315973\n",
      "\n",
      "0.10724\n",
      "0.12751719419748853\n",
      "\n",
      "0.12448000000000001\n",
      "0.16393422368742896\n",
      "\n",
      "0.14171999999999998\n",
      "0.20967415772097434\n",
      "\n",
      "0.15896\n",
      "0.263822486259227\n",
      "\n",
      "0.1762\n",
      "0.3257966850660086\n",
      "\n"
     ]
    }
   ],
   "execution_count": 31
  },
  {
   "metadata": {},
   "cell_type": "code",
   "outputs": [],
   "execution_count": null,
   "source": [
    "for w in range(-10,22,2):\n",
    "    w = w / 10\n",
    "    print(w * ea + (1-w) * ec)\n",
    "    print((w*w * vara + (1-w*w)**2 * varc)**0.5)\n",
    "    print()"
   ],
   "id": "970ff3ca095dd44"
  }
 ],
 "metadata": {
  "kernelspec": {
   "display_name": "Python 3",
   "language": "python",
   "name": "python3"
  },
  "language_info": {
   "codemirror_mode": {
    "name": "ipython",
    "version": 2
   },
   "file_extension": ".py",
   "mimetype": "text/x-python",
   "name": "python",
   "nbconvert_exporter": "python",
   "pygments_lexer": "ipython2",
   "version": "2.7.6"
  }
 },
 "nbformat": 4,
 "nbformat_minor": 5
}
